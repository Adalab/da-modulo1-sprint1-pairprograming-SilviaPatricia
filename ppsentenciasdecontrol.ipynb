{
 "cells": [
  {
   "cell_type": "code",
   "execution_count": 1,
   "metadata": {},
   "outputs": [
    {
     "name": "stdout",
     "output_type": "stream",
     "text": [
      "El número 5 es positivo\n"
     ]
    }
   ],
   "source": [
    "#1\n",
    "numero = int(input('Introduce un número'))\n",
    "if numero < 0: \n",
    "    print(f'El número {numero} es negativo')\n",
    "elif numero == 0:\n",
    "    print(f'El número {numero} es cero')\n",
    "else:\n",
    "    print(f'El número {numero} es positivo')"
   ]
  },
  {
   "cell_type": "code",
   "execution_count": 2,
   "metadata": {},
   "outputs": [
    {
     "name": "stdout",
     "output_type": "stream",
     "text": [
      "El número 8 es par\n"
     ]
    }
   ],
   "source": [
    "#2\n",
    "numero_par = int(input('Introduce un número'))\n",
    "if numero_par % 2 == 0:\n",
    "    print(f'El número {numero_par} es par')\n",
    "else:\n",
    "    print(f'El número {numero_par} es impar')"
   ]
  },
  {
   "cell_type": "code",
   "execution_count": 3,
   "metadata": {},
   "outputs": [
    {
     "name": "stdout",
     "output_type": "stream",
     "text": [
      "Has suspendido, otra vez será\n"
     ]
    }
   ],
   "source": [
    "#3\n",
    "calificacion = int(input('Introduce tu calificación'))\n",
    "if calificacion >= 60:\n",
    "    print('¡Has aprobado!')\n",
    "elif calificacion < 60:\n",
    "    print('Has suspendido, otra vez será')\n"
   ]
  },
  {
   "cell_type": "code",
   "execution_count": 4,
   "metadata": {},
   "outputs": [
    {
     "name": "stdout",
     "output_type": "stream",
     "text": [
      "El número 5 es mayor que el número 4\n"
     ]
    }
   ],
   "source": [
    "#4\n",
    "numero1 = int(input('Introduce un número'))\n",
    "numero2 = int(input('Introduce otro número'))\n",
    "if numero1 > numero2:\n",
    "    print(f'El número {numero1} es mayor que el número {numero2}')\n",
    "elif numero1 < numero2:\n",
    "    print(f'El número {numero2} es mayor que el número {numero1}')\n",
    "else:\n",
    "    print(f'El número {numero1} es igual que el número {numero2}')"
   ]
  },
  {
   "cell_type": "code",
   "execution_count": 5,
   "metadata": {},
   "outputs": [
    {
     "name": "stdout",
     "output_type": "stream",
     "text": [
      "La letra g es una consonante\n"
     ]
    }
   ],
   "source": [
    "#5\n",
    "letra = input('Introduce una letra')\n",
    "vocales = ['a','e','i','o','u','A','E','I','O','U']\n",
    "if letra in vocales:\n",
    "    print(f'La letra {letra} es una vocal')\n",
    "else:\n",
    "    print(f'La letra {letra} es una consonante')"
   ]
  },
  {
   "cell_type": "code",
   "execution_count": 10,
   "metadata": {},
   "outputs": [
    {
     "name": "stdout",
     "output_type": "stream",
     "text": [
      "Lo siento, no tienes descuento :(\n"
     ]
    }
   ],
   "source": [
    "#6\n",
    "compra= int(input(\"¿Cuánto te has gastado en la compra?:\"))\n",
    "if compra >=100:\n",
    "    print(f\"El descuento de tu compra es de {compra*0.1}€\")\n",
    "else:\n",
    "    print(\"Lo siento, no tienes descuento :(\")"
   ]
  },
  {
   "cell_type": "code",
   "execution_count": 16,
   "metadata": {},
   "outputs": [
    {
     "name": "stdout",
     "output_type": "stream",
     "text": [
      "Ese año es bisiesto\n"
     ]
    }
   ],
   "source": [
    "#7 REVISAR\n",
    "año=int(input('Introduce un año:'))\n",
    "if año%4!=0:\n",
    "    print(\"Ese año no es bisiesto\")\n",
    "elif año%4==0:\n",
    "    if año%100!=0:\n",
    "        print(\"Ese año es bisiesto\")\n",
    "    elif año%100==0 and año%400!=0:\n",
    "        print(\"Ese año no es bisiesto\")\n",
    "    elif año%100==0 and año%400==0:\n",
    "        print(\"Ese año es bisiesto\")"
   ]
  },
  {
   "cell_type": "code",
   "execution_count": 20,
   "metadata": {},
   "outputs": [
    {
     "name": "stdout",
     "output_type": "stream",
     "text": [
      "Eres adulto mayor\n"
     ]
    }
   ],
   "source": [
    "#8\n",
    "edad=int(input('Introduce tu edad:'))\n",
    "if edad <18:\n",
    "    print(\"Eres menor de edad\")\n",
    "elif edad<=64: \n",
    "    print(\"Eres adulto\")\n",
    "else:\n",
    "    print(\"Eres adulto mayor\")"
   ]
  },
  {
   "cell_type": "code",
   "execution_count": 24,
   "metadata": {},
   "outputs": [
    {
     "name": "stdout",
     "output_type": "stream",
     "text": [
      "El triángulo es rectángulo\n"
     ]
    }
   ],
   "source": [
    "#9\n",
    "#hip^2=c1^2+c2^2\n",
    "lado1=int(input(\"Introduce la medida de un lado:\"))\n",
    "lado2=int(input(\"Introduce la medida de otro lado:\"))\n",
    "lado3=int(input(\"Introduce la medida del último lado:\"))\n",
    "if lado1**2+lado2**2==lado3**2:\n",
    "    print(\"El triángulo es rectángulo\")\n",
    "elif lado2**2+lado3**2==lado1**2:\n",
    "    print(\"El triángulo es rectángulo\")\n",
    "elif lado3**2+lado1**2==lado2**2:\n",
    "    print(\"El triángulo es rectángulo\")\n",
    "else:\n",
    "    print(\"El triángulo no es rectángulo\")\n"
   ]
  },
  {
   "cell_type": "code",
   "execution_count": 33,
   "metadata": {},
   "outputs": [
    {
     "name": "stdout",
     "output_type": "stream",
     "text": [
      "Tu calificación es F\n"
     ]
    }
   ],
   "source": [
    "#10:\n",
    "puntuación = int(input('Introduce tu puntuación'))\n",
    "if puntuación >= 90:\n",
    "    print('Tu calificación es A')\n",
    "elif puntuación >= 80:\n",
    "    print('Tu calificación es B')\n",
    "elif puntuación >=70:\n",
    "    print('Tu calificación es C')\n",
    "elif puntuación >= 60:\n",
    "    print('Tu calificación es D')\n",
    "else:\n",
    "    print('Tu calificación es F')"
   ]
  },
  {
   "cell_type": "code",
   "execution_count": 38,
   "metadata": {},
   "outputs": [
    {
     "name": "stdout",
     "output_type": "stream",
     "text": [
      "Tienes obesidad\n"
     ]
    }
   ],
   "source": [
    "#11\n",
    "peso = int(input(\"¿Cuál es tu peso en kg? \"))\n",
    "estatura = float(input(\"¿Cuál es tu estatura en metros?\"))\n",
    "imc = (peso)/(estatura)**2\n",
    "if imc<18.5:\n",
    "    print(\"Tienes bajo peso\")\n",
    "elif 18.5<=imc<=24.9:\n",
    "    print(\"Tienes peso normal\")\n",
    "elif 25<=imc<=29.9:\n",
    "    print(\"Tienes sobrepeso\")\n",
    "else:\n",
    "    print(\"Tienes obesidad\")"
   ]
  },
  {
   "cell_type": "code",
   "execution_count": 7,
   "metadata": {},
   "outputs": [
    {
     "name": "stdout",
     "output_type": "stream",
     "text": [
      "Has introducido dos o más números iguales\n"
     ]
    }
   ],
   "source": [
    "#12\n",
    "num1=int(input(\"Introduce un número:\"))\n",
    "num2=int(input(\"Introduce otro número:\"))\n",
    "num3=int(input(\"Introduce el último número:\"))\n",
    "if num1>num2 and num1>num3:\n",
    "    print(f\"El {num1} es el más alto\")\n",
    "elif num2>num1 and num2>num3:\n",
    "    print(f\"El {num2} es el más alto\")\n",
    "elif num3>num1 and num3>num2:\n",
    "    print(f\"El {num3} es el más alto\")\n",
    "else:\n",
    "    print(\"Has introducido dos o más números iguales\")\n"
   ]
  },
  {
   "cell_type": "code",
   "execution_count": 17,
   "metadata": {},
   "outputs": [
    {
     "name": "stdout",
     "output_type": "stream",
     "text": [
      "Fecha no válida\n"
     ]
    }
   ],
   "source": [
    "#13.\n",
    "dia=int(input(\"Introduce un día. (Número entre 1 y 31)\"))\n",
    "mes=int(input(\"Introduce un mes del año de forma numérica.\"))\n",
    "año=int(input(\"Introduce un año\"))\n",
    "meses_cortos=[4,6,9,11]\n",
    "if año<=0:\n",
    "    print(\"No vayas tan atrás, no es necesario...\")\n",
    "else:\n",
    "    if dia in range (1,32):\n",
    "        if mes in range (1,13):\n",
    "            if mes in meses_cortos and dia==31:\n",
    "             print(\"Fecha no válida\")\n",
    "            elif mes==2:\n",
    "                if año%4!=0 and dia>28:\n",
    "                    print(\"Fecha no válida\")\n",
    "                elif año%4==0 and año%100!=0 and dia>29:\n",
    "                    print(\"Fecha no válida\")\n",
    "                elif año%4==0 and año%100==0 and año%400!=0 and dia>28:\n",
    "                    print(\"Fecha no válida\")\n",
    "                elif año%4==0 and año%100==0 and año%400==0 and dia>29:\n",
    "                    print(\"Fecha no válida\")\n",
    "                else:\n",
    "                    print(f\"{dia}/{mes}/{año} es una fecha válida\")\n",
    "            else:\n",
    "                print(f\"{dia}/{mes}/{año} es una fecha válida\")\n",
    "        else:\n",
    "            print(\"Fecha no válida\")\n",
    "    else:\n",
    "        print(\"Fecha no válida\")\n",
    "    "
   ]
  },
  {
   "cell_type": "markdown",
   "metadata": {},
   "source": [
    "if año%4!=0:\n",
    "    print(\"Ese año no es bisiesto\")\n",
    "elif año%4==0:\n",
    "    if año%100!=0:\n",
    "        print(\"Ese año es bisiesto\")\n",
    "    elif año%100==0 and año%400!=0:\n",
    "        print(\"Ese año no es bisiesto\")\n",
    "    elif año%100==0 and año%400==0:\n",
    "        print(\"Ese año es bisiesto\")"
   ]
  }
 ],
 "metadata": {
  "kernelspec": {
   "display_name": "base",
   "language": "python",
   "name": "python3"
  },
  "language_info": {
   "codemirror_mode": {
    "name": "ipython",
    "version": 3
   },
   "file_extension": ".py",
   "mimetype": "text/x-python",
   "name": "python",
   "nbconvert_exporter": "python",
   "pygments_lexer": "ipython3",
   "version": "3.10.9"
  }
 },
 "nbformat": 4,
 "nbformat_minor": 2
}
