{
 "cells": [
  {
   "cell_type": "code",
   "execution_count": 3,
   "metadata": {},
   "outputs": [
    {
     "name": "stdout",
     "output_type": "stream",
     "text": [
      "El número 2 es positivo\n"
     ]
    }
   ],
   "source": [
    "#1\n",
    "numero = int(input('Introduce un número'))\n",
    "if numero < 0: \n",
    "    print(f'El número {numero} es negativo')\n",
    "elif numero == 0:\n",
    "    print(f'El número {numero} es cero')\n",
    "else:\n",
    "    print(f'El número {numero} es positivo')"
   ]
  },
  {
   "cell_type": "code",
   "execution_count": 7,
   "metadata": {},
   "outputs": [
    {
     "name": "stdout",
     "output_type": "stream",
     "text": [
      "El número 137 es impar\n"
     ]
    }
   ],
   "source": [
    "#2\n",
    "numero_par = int(input('Introduce un número'))\n",
    "if numero_par % 2 == 0:\n",
    "    print(f'El número {numero_par} es par')\n",
    "else:\n",
    "    print(f'El número {numero_par} es impar')"
   ]
  },
  {
   "cell_type": "code",
   "execution_count": 12,
   "metadata": {},
   "outputs": [
    {
     "name": "stdout",
     "output_type": "stream",
     "text": [
      "Has suspendido, otra vez será\n"
     ]
    }
   ],
   "source": [
    "#3\n",
    "calificacion = int(input('Introduce tu calificación'))\n",
    "if calificacion >= 60:\n",
    "    print('¡Has aprobado!')\n",
    "elif calificacion < 60:\n",
    "    print('Has suspendido, otra vez será')\n"
   ]
  },
  {
   "cell_type": "code",
   "execution_count": 15,
   "metadata": {},
   "outputs": [
    {
     "name": "stdout",
     "output_type": "stream",
     "text": [
      "El número 20 es igual que el número 20\n"
     ]
    }
   ],
   "source": [
    "#4\n",
    "numero1 = int(input('Introduce un número'))\n",
    "numero2 = int(input('Introduce otro número'))\n",
    "if numero1 > numero2:\n",
    "    print(f'El número {numero1} es mayor que el número {numero2}')\n",
    "elif numero1 < numero2:\n",
    "    print(f'El número {numero2} es mayor que el número {numero1}')\n",
    "else:\n",
    "    print(f'El número {numero1} es igual que el número {numero2}')"
   ]
  },
  {
   "cell_type": "code",
   "execution_count": 19,
   "metadata": {},
   "outputs": [
    {
     "name": "stdout",
     "output_type": "stream",
     "text": [
      "La letra Y es una consonante\n"
     ]
    }
   ],
   "source": [
    "#5\n",
    "letra = input('Introduce una letra')\n",
    "vocales = ['a','e','i','o','u','A','E','I','O','U']\n",
    "if letra in vocales:\n",
    "    print(f'La letra {letra} es una vocal')\n",
    "else:\n",
    "    print(f'La letra {letra} es una consonante')"
   ]
  },
  {
   "cell_type": "code",
   "execution_count": null,
   "metadata": {},
   "outputs": [],
   "source": [
    "#6\n"
   ]
  }
 ],
 "metadata": {
  "kernelspec": {
   "display_name": "base",
   "language": "python",
   "name": "python3"
  },
  "language_info": {
   "codemirror_mode": {
    "name": "ipython",
    "version": 3
   },
   "file_extension": ".py",
   "mimetype": "text/x-python",
   "name": "python",
   "nbconvert_exporter": "python",
   "pygments_lexer": "ipython3",
   "version": "3.9.7"
  }
 },
 "nbformat": 4,
 "nbformat_minor": 2
}
