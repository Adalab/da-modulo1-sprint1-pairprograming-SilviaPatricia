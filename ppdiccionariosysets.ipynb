{
 "cells": [
  {
   "cell_type": "code",
   "execution_count": 13,
   "metadata": {},
   "outputs": [
    {
     "name": "stdout",
     "output_type": "stream",
     "text": [
      "{}\n"
     ]
    }
   ],
   "source": [
    "#1 \n",
    "letras=dict()\n",
    "print(letras)"
   ]
  },
  {
   "cell_type": "code",
   "execution_count": 14,
   "metadata": {},
   "outputs": [
    {
     "name": "stdout",
     "output_type": "stream",
     "text": [
      "{'1': 'uno', '2': 'dos', '3': 'tres', '4': 'cuatro', '5': 'cinco'}\n"
     ]
    }
   ],
   "source": [
    "#2\n",
    "numeros={\"1\":\"uno\",\"2\":\"dos\",\"3\":\"tres\",\"4\":\"cuatro\",\"5\":\"cinco\"}\n",
    "print(numeros)"
   ]
  },
  {
   "cell_type": "code",
   "execution_count": 15,
   "metadata": {},
   "outputs": [
    {
     "name": "stdout",
     "output_type": "stream",
     "text": [
      "dos\n"
     ]
    }
   ],
   "source": [
    "#3\n",
    "valor=input(\"Elige un número del 1 al 5:\")\n",
    "print(numeros[valor])\n"
   ]
  },
  {
   "cell_type": "code",
   "execution_count": 16,
   "metadata": {},
   "outputs": [
    {
     "name": "stdout",
     "output_type": "stream",
     "text": [
      "{'1': 'uno', '2': 'dos', '3': 'tres', '4': 'cuatro', '5': 'cinco', '6': 'seis'}\n"
     ]
    }
   ],
   "source": [
    "#4\n",
    "nuevo={\"6\":\"seis\"}\n",
    "numeros.update(nuevo)\n",
    "print(numeros)"
   ]
  },
  {
   "cell_type": "code",
   "execution_count": 17,
   "metadata": {},
   "outputs": [
    {
     "name": "stdout",
     "output_type": "stream",
     "text": [
      "{'1': 'uno', '2': 'dos', '3': 'tres', '4': 'cuatro', '5': 'cinco', '6': '3+3'}\n"
     ]
    }
   ],
   "source": [
    "#5\n",
    "numeros[\"6\"]=\"3+3\"\n",
    "print(numeros)"
   ]
  },
  {
   "cell_type": "code",
   "execution_count": 18,
   "metadata": {},
   "outputs": [
    {
     "name": "stdout",
     "output_type": "stream",
     "text": [
      "{'1': 'uno', '2': 'dos', '4': 'cuatro', '5': 'cinco', '6': '3+3'}\n"
     ]
    }
   ],
   "source": [
    "#6\n",
    "eliminar=input(\"Elige un número del 1 al 6 para eliminar:\")\n",
    "numeros.pop(eliminar)\n",
    "print(numeros)"
   ]
  }
 ],
 "metadata": {
  "kernelspec": {
   "display_name": "base",
   "language": "python",
   "name": "python3"
  },
  "language_info": {
   "codemirror_mode": {
    "name": "ipython",
    "version": 3
   },
   "file_extension": ".py",
   "mimetype": "text/x-python",
   "name": "python",
   "nbconvert_exporter": "python",
   "pygments_lexer": "ipython3",
   "version": "3.10.9"
  }
 },
 "nbformat": 4,
 "nbformat_minor": 2
}
