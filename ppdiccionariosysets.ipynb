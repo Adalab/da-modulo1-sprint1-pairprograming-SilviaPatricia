{
 "cells": [
  {
   "cell_type": "code",
   "execution_count": 1,
   "metadata": {},
   "outputs": [
    {
     "name": "stdout",
     "output_type": "stream",
     "text": [
      "{}\n"
     ]
    }
   ],
   "source": [
    "#1 \n",
    "letras=dict()\n",
    "print(letras)"
   ]
  },
  {
   "cell_type": "code",
   "execution_count": 2,
   "metadata": {},
   "outputs": [
    {
     "name": "stdout",
     "output_type": "stream",
     "text": [
      "{'1': 'uno', '2': 'dos', '3': 'tres', '4': 'cuatro', '5': 'cinco'}\n"
     ]
    }
   ],
   "source": [
    "#2\n",
    "numeros={\"1\":\"uno\",\"2\":\"dos\",\"3\":\"tres\",\"4\":\"cuatro\",\"5\":\"cinco\"}\n",
    "print(numeros)"
   ]
  },
  {
   "cell_type": "code",
   "execution_count": 3,
   "metadata": {},
   "outputs": [
    {
     "name": "stdout",
     "output_type": "stream",
     "text": [
      "uno\n"
     ]
    }
   ],
   "source": [
    "#3\n",
    "valor=input(\"Elige un número del 1 al 5:\")\n",
    "print(numeros[valor])\n"
   ]
  },
  {
   "cell_type": "code",
   "execution_count": 4,
   "metadata": {},
   "outputs": [
    {
     "name": "stdout",
     "output_type": "stream",
     "text": [
      "{'1': 'uno', '2': 'dos', '3': 'tres', '4': 'cuatro', '5': 'cinco', '6': 'seis'}\n"
     ]
    }
   ],
   "source": [
    "#4\n",
    "nuevo={\"6\":\"seis\"}\n",
    "numeros.update(nuevo)\n",
    "print(numeros)"
   ]
  },
  {
   "cell_type": "code",
   "execution_count": 5,
   "metadata": {},
   "outputs": [
    {
     "name": "stdout",
     "output_type": "stream",
     "text": [
      "{'1': 'uno', '2': 'dos', '3': 'tres', '4': 'cuatro', '5': 'cinco', '6': '3+3'}\n"
     ]
    }
   ],
   "source": [
    "#5\n",
    "numeros[\"6\"]=\"3+3\"\n",
    "print(numeros)"
   ]
  },
  {
   "cell_type": "code",
   "execution_count": 6,
   "metadata": {},
   "outputs": [
    {
     "name": "stdout",
     "output_type": "stream",
     "text": [
      "{'1': 'uno', '3': 'tres', '4': 'cuatro', '5': 'cinco', '6': '3+3'}\n"
     ]
    }
   ],
   "source": [
    "#6\n",
    "eliminar=input(\"Elige un número del 1 al 6 para eliminar:\")\n",
    "numeros.pop(eliminar)\n",
    "print(numeros)"
   ]
  },
  {
   "cell_type": "code",
   "execution_count": 7,
   "metadata": {},
   "outputs": [
    {
     "data": {
      "text/plain": [
       "'tres'"
      ]
     },
     "execution_count": 7,
     "metadata": {},
     "output_type": "execute_result"
    }
   ],
   "source": [
    "#7 \n",
    "verificar = input('Elige un número del 1 al 6 para comprobar si está en el diccionario: ')\n",
    "numeros.get(verificar,'Ese número no se encuentra en el diccionario')"
   ]
  },
  {
   "cell_type": "code",
   "execution_count": 8,
   "metadata": {},
   "outputs": [
    {
     "data": {
      "text/plain": [
       "dict_keys(['1', '3', '4', '5', '6'])"
      ]
     },
     "execution_count": 8,
     "metadata": {},
     "output_type": "execute_result"
    }
   ],
   "source": [
    "#8\n",
    "numeros.keys()"
   ]
  },
  {
   "cell_type": "code",
   "execution_count": 9,
   "metadata": {},
   "outputs": [
    {
     "data": {
      "text/plain": [
       "dict_values(['uno', 'tres', 'cuatro', 'cinco', '3+3'])"
      ]
     },
     "execution_count": 9,
     "metadata": {},
     "output_type": "execute_result"
    }
   ],
   "source": [
    "#9\n",
    "numeros.values()"
   ]
  },
  {
   "cell_type": "code",
   "execution_count": 10,
   "metadata": {},
   "outputs": [
    {
     "name": "stdout",
     "output_type": "stream",
     "text": [
      "{'1': 'uno', '3': 'tres', '4': 'cuatro', '5': 'cinco', '6': '3+3', '7': 'siete'}\n"
     ]
    }
   ],
   "source": [
    "#10\n",
    "numeros.setdefault('7','siete')\n",
    "print(numeros)"
   ]
  },
  {
   "cell_type": "code",
   "execution_count": 11,
   "metadata": {},
   "outputs": [
    {
     "name": "stdout",
     "output_type": "stream",
     "text": [
      "{'1': 'uno', '3': 'tres', '4': 'cuatro', '5': 'cinco', '7': 'siete'}\n",
      "{'1': 'uno', '3': 'tres', '4': 'cuatro', '5': 'cinco'}\n"
     ]
    }
   ],
   "source": [
    "#11\n",
    "numeros.pop('6')\n",
    "print(numeros)\n",
    "numeros.popitem()\n",
    "print(numeros)"
   ]
  },
  {
   "cell_type": "markdown",
   "metadata": {},
   "source": [
    "# SETS"
   ]
  },
  {
   "cell_type": "code",
   "execution_count": 12,
   "metadata": {},
   "outputs": [
    {
     "name": "stdout",
     "output_type": "stream",
     "text": [
      "set()\n"
     ]
    }
   ],
   "source": [
    "#1\n",
    "vacio = set()\n",
    "print(vacio)"
   ]
  },
  {
   "cell_type": "code",
   "execution_count": 13,
   "metadata": {},
   "outputs": [
    {
     "name": "stdout",
     "output_type": "stream",
     "text": [
      "{1, 2, 3, 4, 5}\n"
     ]
    }
   ],
   "source": [
    "#2\n",
    "numeros2 = {1,2,3,4,5}\n",
    "print(numeros2)"
   ]
  },
  {
   "cell_type": "code",
   "execution_count": 14,
   "metadata": {},
   "outputs": [
    {
     "name": "stdout",
     "output_type": "stream",
     "text": [
      "{1, 2, 3, 4, 5, 6}\n",
      "{1, 2, 3, 4, 5, 6, 7, 8}\n"
     ]
    }
   ],
   "source": [
    "#3\n",
    "numeros2.add(6)\n",
    "print(numeros2)\n",
    "par_numeros=(7,8)\n",
    "numeros2.update(par_numeros)\n",
    "print(numeros2)"
   ]
  },
  {
   "cell_type": "code",
   "execution_count": 16,
   "metadata": {},
   "outputs": [
    {
     "name": "stdout",
     "output_type": "stream",
     "text": [
      "{1, 2, 3, 4, 6, 7, 8}\n"
     ]
    }
   ],
   "source": [
    "#4\n",
    "eliminar_set=input('Elige un numero del 1 al 8 para eliminarlo: ')\n",
    "numeros2.remove(int(eliminar_set))\n",
    "print(numeros2)"
   ]
  },
  {
   "cell_type": "code",
   "execution_count": 17,
   "metadata": {},
   "outputs": [
    {
     "data": {
      "text/plain": [
       "True"
      ]
     },
     "execution_count": 17,
     "metadata": {},
     "output_type": "execute_result"
    }
   ],
   "source": [
    "#5\n",
    "4 in numeros2"
   ]
  },
  {
   "cell_type": "code",
   "execution_count": 18,
   "metadata": {},
   "outputs": [
    {
     "data": {
      "text/plain": [
       "{1, 2, 3, 4, 6, 7, 8, 10, 12}"
      ]
     },
     "execution_count": 18,
     "metadata": {},
     "output_type": "execute_result"
    }
   ],
   "source": [
    "#6\n",
    "numeros3 = {2,4,6,8,10,12}\n",
    "numeros2.union(numeros3)"
   ]
  }
 ],
 "metadata": {
  "kernelspec": {
   "display_name": "base",
   "language": "python",
   "name": "python3"
  },
  "language_info": {
   "codemirror_mode": {
    "name": "ipython",
    "version": 3
   },
   "file_extension": ".py",
   "mimetype": "text/x-python",
   "name": "python",
   "nbconvert_exporter": "python",
   "pygments_lexer": "ipython3",
   "version": "3.9.7"
  }
 },
 "nbformat": 4,
 "nbformat_minor": 2
}
